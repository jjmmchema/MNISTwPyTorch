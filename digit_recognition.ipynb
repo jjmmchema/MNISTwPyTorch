{
 "cells": [
  {
   "cell_type": "code",
   "execution_count": 1,
   "id": "223c1945-702f-4ed8-b3ad-3f965bf4aae4",
   "metadata": {
    "tags": []
   },
   "outputs": [],
   "source": [
    "import numpy as np\n",
    "import pandas as pd\n",
    "\n",
    "import matplotlib.pyplot as plt\n",
    "%matplotlib inline\n",
    "\n",
    "import torch\n",
    "from torch import nn"
   ]
  },
  {
   "cell_type": "code",
   "execution_count": 2,
   "id": "73454bea-ba25-4bbd-87fc-af60e1219fd0",
   "metadata": {
    "tags": []
   },
   "outputs": [],
   "source": [
    "train_ds = pd.read_csv(\"./Data/train.csv\")\n",
    "test_ds = pd.read_csv(\"./Data/test.csv\")"
   ]
  },
  {
   "cell_type": "code",
   "execution_count": 3,
   "id": "7bf4d56c-4bf9-4e27-890c-fe60891d9c98",
   "metadata": {
    "tags": []
   },
   "outputs": [
    {
     "name": "stdout",
     "output_type": "stream",
     "text": [
      "(42000, 785)\n",
      "(28000, 784)\n"
     ]
    }
   ],
   "source": [
    "print(train_ds.shape)\n",
    "print(test_ds.shape)"
   ]
  },
  {
   "cell_type": "code",
   "execution_count": 66,
   "id": "b300a8c1-8334-479a-a88d-2b8bd83c8525",
   "metadata": {
    "tags": []
   },
   "outputs": [],
   "source": [
    "X_train = train_ds.iloc[:, 1:].values.astype('float32')\n",
    "y_train = train_ds.iloc[:, 0].values.astype('int32')"
   ]
  },
  {
   "cell_type": "code",
   "execution_count": 201,
   "id": "75f8ad4c-0518-42f9-b045-5a4fc7420f1f",
   "metadata": {
    "tags": []
   },
   "outputs": [],
   "source": [
    "X_test = test_ds.values.astype('float32')"
   ]
  },
  {
   "cell_type": "code",
   "execution_count": 67,
   "id": "172031c3-ec97-40a5-aa47-955ac4f424a8",
   "metadata": {
    "tags": []
   },
   "outputs": [],
   "source": [
    "X_train = X_train.reshape(X_train.shape[0], 28, 28)"
   ]
  },
  {
   "cell_type": "code",
   "execution_count": 68,
   "id": "0f888beb-527d-43c8-9c48-bbf056061f93",
   "metadata": {
    "tags": []
   },
   "outputs": [
    {
     "data": {
      "image/png": "[encoded data removed]",
      "text/plain": [
       "<Figure size 640x480 with 10 Axes>"
      ]
     },
     "metadata": {},
     "output_type": "display_data"
    }
   ],
   "source": [
    "for i in range(10):\n",
    "    plt.subplot(2, 5, i + 1)\n",
    "    plt.imshow(X_train[i], cmap=plt.get_cmap(\"gray\"))\n",
    "    plt.title(y_train[i])"
   ]
  },
  {
   "cell_type": "code",
   "execution_count": 69,
   "id": "08ffeee0-880c-4082-b0f1-3bd19619df6b",
   "metadata": {
    "tags": []
   },
   "outputs": [],
   "source": [
    "X_train = np.expand_dims(X_train, axis=1) # Add an extra dimension for the gray scale\n",
    "# x.swapaxes(2, 3).swapaxes(1, 2)"
   ]
  },
  {
   "cell_type": "code",
   "execution_count": 70,
   "id": "82b287c0-7b5f-4eeb-9260-fbf1c00f0391",
   "metadata": {
    "tags": []
   },
   "outputs": [
    {
     "data": {
      "text/plain": [
       "(42000, 1, 28, 28)"
      ]
     },
     "execution_count": 70,
     "metadata": {},
     "output_type": "execute_result"
    }
   ],
   "source": [
    "X_train.shape"
   ]
  },
  {
   "cell_type": "code",
   "execution_count": 71,
   "id": "77964dc4-4993-4345-be1a-320d2ce7782d",
   "metadata": {
    "tags": []
   },
   "outputs": [],
   "source": [
    "x_mean = X_train.mean().astype(np.float32)\n",
    "x_std = X_train.std().astype(np.float32)"
   ]
  },
  {
   "cell_type": "code",
   "execution_count": 72,
   "id": "37a1259b-f5eb-4955-8d1b-3b93b6b688f8",
   "metadata": {
    "tags": []
   },
   "outputs": [],
   "source": [
    "def standardize(x):\n",
    "    return (x-x_mean) / x_std\n",
    "\n",
    "def to_categorical(y, num_labels): # one hot vector\n",
    "    return np.eye(num_labels)[y]"
   ]
  },
  {
   "cell_type": "code",
   "execution_count": 73,
   "id": "b2bef807-d952-4fa0-8b5c-ec08d77c4746",
   "metadata": {
    "tags": []
   },
   "outputs": [],
   "source": [
    "seed = 45\n",
    "np.random.seed(seed)"
   ]
  },
  {
   "cell_type": "code",
   "execution_count": 74,
   "id": "d3de19e9-5534-4383-8469-a7df1ad11550",
   "metadata": {
    "tags": []
   },
   "outputs": [],
   "source": [
    "class Model(nn.Module):\n",
    "    \n",
    "    def __init__(self):\n",
    "        super().__init__()\n",
    "        self.input_layer = self.Lambda(standardize)\n",
    "        self.conv1 = nn.Conv2d(1, 28, kernel_size=3)\n",
    "        self.relu = nn.ReLU()\n",
    "        self.pool = nn.MaxPool2d(2)\n",
    "        \n",
    "        self.conv2_block = nn.Sequential(\n",
    "            nn.Conv2d(28, 32, kernel_size=3),\n",
    "            self.relu,\n",
    "            self.pool,\n",
    "        )\n",
    "         \n",
    "        self.linear = nn.Linear(32 * 5 * 5, 10)\n",
    "        \n",
    "    def forward(self, x):\n",
    "        x = self.input_layer(x)\n",
    "        x = self.conv1(x)\n",
    "        x = self.relu(x)\n",
    "        x = self.pool(x)\n",
    "        x = self.conv2_block(x)\n",
    "        x = x.view(x.size(0), -1)\n",
    "        return self.linear(x)\n",
    "        \n",
    "    class Lambda(nn.Module):\n",
    "        def __init__(self, lambd):\n",
    "            super().__init__()\n",
    "            self.lambd = lambd\n",
    "        def forward(self, x):\n",
    "            return torch.tensor(self.lambd(x))"
   ]
  },
  {
   "cell_type": "code",
   "execution_count": 75,
   "id": "efdecbb3-357c-4e0e-a9f0-efd14004e265",
   "metadata": {
    "tags": []
   },
   "outputs": [],
   "source": [
    "model = Model()"
   ]
  },
  {
   "cell_type": "code",
   "execution_count": 15,
   "id": "6323890e-0904-4f44-9db1-2d74f9622042",
   "metadata": {
    "tags": []
   },
   "outputs": [],
   "source": [
    "pred = model(X_train)"
   ]
  },
  {
   "cell_type": "code",
   "execution_count": 76,
   "id": "2b33171f-c24b-4618-a81e-088a45a09e10",
   "metadata": {
    "tags": []
   },
   "outputs": [],
   "source": [
    "# t = model(np.expand_dims(X_train[0], 0))\n",
    "# plt.imshow(t.detach()[0, :, :], cmap=\"gray\")"
   ]
  },
  {
   "cell_type": "code",
   "execution_count": 77,
   "id": "4efa0375-cf54-48f7-ad2b-9ff6ab612533",
   "metadata": {
    "tags": []
   },
   "outputs": [
    {
     "data": {
      "text/plain": [
       "<matplotlib.image.AxesImage at 0x190e37e1960>"
      ]
     },
     "execution_count": 77,
     "metadata": {},
     "output_type": "execute_result"
    },
    {
     "data": {
      "image/png": "[encoded data removed]",
      "text/plain": [
       "<Figure size 640x480 with 1 Axes>"
      ]
     },
     "metadata": {},
     "output_type": "display_data"
    }
   ],
   "source": [
    "plt.imshow(X_train[0, 0, :, :], cmap=\"gray\")"
   ]
  },
  {
   "cell_type": "code",
   "execution_count": 78,
   "id": "1f2a6452-4d2f-4d62-9395-245ad178016f",
   "metadata": {
    "tags": []
   },
   "outputs": [],
   "source": [
    "optimizer = torch.optim.RMSprop(params=model.parameters(), lr=0.01)\n",
    "loss_fn = torch.nn.CrossEntropyLoss()"
   ]
  },
  {
   "cell_type": "code",
   "execution_count": 79,
   "id": "6145d53c-00ba-4949-bdf7-eb381a52a025",
   "metadata": {},
   "outputs": [
    {
     "name": "stdout",
     "output_type": "stream",
     "text": [
      "Model(\n",
      "  (input_layer): Lambda()\n",
      "  (conv1): Conv2d(1, 28, kernel_size=(3, 3), stride=(1, 1))\n",
      "  (relu): ReLU()\n",
      "  (pool): MaxPool2d(kernel_size=2, stride=2, padding=0, dilation=1, ceil_mode=False)\n",
      "  (conv2_block): Sequential(\n",
      "    (0): Conv2d(28, 32, kernel_size=(3, 3), stride=(1, 1))\n",
      "    (1): ReLU()\n",
      "    (2): MaxPool2d(kernel_size=2, stride=2, padding=0, dilation=1, ceil_mode=False)\n",
      "  )\n",
      "  (linear): Linear(in_features=800, out_features=10, bias=True)\n",
      ")\n"
     ]
    }
   ],
   "source": [
    "print(model)"
   ]
  },
  {
   "cell_type": "code",
   "execution_count": 86,
   "id": "58f83797-569c-4935-b29b-1fbb9c5b5c92",
   "metadata": {
    "tags": []
   },
   "outputs": [],
   "source": [
    "y_train = to_categorical(y_train, 10)"
   ]
  },
  {
   "cell_type": "code",
   "execution_count": 166,
   "id": "fc398877-7c6a-4263-b6c0-775a944f4726",
   "metadata": {
    "tags": []
   },
   "outputs": [],
   "source": [
    "def train_nn(epochs, net : torch.nn.Module, X_train, y_train):\n",
    "    \n",
    "    net.train()\n",
    "    \n",
    "    batch_size = 42\n",
    "    \n",
    "    epoch_count, train_loss_vals = [], []\n",
    "    \n",
    "    X_train = torch.tensor(X_train).split(batch_size)\n",
    "    y_train = torch.tensor(y_train).split(batch_size)\n",
    "    \n",
    "    for epoch in range(epochs):\n",
    "        for x_batch, y_batch in zip(X_train, y_train):\n",
    "            y_pred = net(x_batch)\n",
    "            loss = loss_fn(y_pred, y_batch)\n",
    "            optimizer.zero_grad()\n",
    "            loss.backward()\n",
    "            optimizer.step()\n",
    "            \n",
    "        # if epoch % 10 == 0:\n",
    "        epoch_count.append(epoch)\n",
    "        train_loss_vals.append(loss)\n",
    "        print(f\"Epoch {epoch}: Train loss of {loss}\")\n",
    "        # print(net.state_dict())\n",
    "            \n",
    "    return net, epoch_count, train_loss_vals"
   ]
  },
  {
   "cell_type": "code",
   "execution_count": 167,
   "id": "5da7948d-c072-4b74-8238-3350dbb4576a",
   "metadata": {
    "tags": []
   },
   "outputs": [
    {
     "name": "stderr",
     "output_type": "stream",
     "text": [
      "C:\\Users\\Josemaria\\AppData\\Local\\Temp\\ipykernel_14568\\2283935433.py:32: UserWarning: To copy construct from a tensor, it is recommended to use sourceTensor.clone().detach() or sourceTensor.clone().detach().requires_grad_(True), rather than torch.tensor(sourceTensor).\n",
      "  return torch.tensor(self.lambd(x))\n"
     ]
    },
    {
     "name": "stdout",
     "output_type": "stream",
     "text": [
      "Epoch 0: Train loss of 0.008753881229151227\n",
      "Epoch 1: Train loss of 6.633095957940869e-05\n",
      "Epoch 2: Train loss of 0.03415236266499767\n",
      "Epoch 3: Train loss of 0.004020946458121259\n",
      "Epoch 4: Train loss of 1.308171649887819e-05\n",
      "Epoch 5: Train loss of 3.0348134802388976e-05\n",
      "Epoch 6: Train loss of 0.013337727210302236\n",
      "Epoch 7: Train loss of 1.4762803023889623e-05\n",
      "Epoch 8: Train loss of 2.8099165796274544e-07\n",
      "Epoch 9: Train loss of 2.838316248698902e-09\n"
     ]
    }
   ],
   "source": [
    "trained_model, epoch_count, train_loss_vals = train_nn(10, model, X_train, y_train)"
   ]
  },
  {
   "cell_type": "code",
   "execution_count": 169,
   "id": "adb81af9-d212-4bb8-925a-3ee5bf069ef9",
   "metadata": {
    "tags": []
   },
   "outputs": [],
   "source": [
    "n_pred = trained_model(X_train)"
   ]
  },
  {
   "cell_type": "code",
   "execution_count": 191,
   "id": "2eb89f5d-e12c-489b-b403-281117750564",
   "metadata": {
    "tags": []
   },
   "outputs": [
    {
     "data": {
      "text/plain": [
       "torch.Size([42000])"
      ]
     },
     "execution_count": 191,
     "metadata": {},
     "output_type": "execute_result"
    }
   ],
   "source": [
    "_, idx = n_pred.max(1)\n",
    "idx.shape"
   ]
  },
  {
   "cell_type": "code",
   "execution_count": 192,
   "id": "13f1a252-a003-415a-b6b5-e601d55ba9e7",
   "metadata": {
    "tags": []
   },
   "outputs": [],
   "source": [
    "train_pred = to_categorical(idx, 10)"
   ]
  },
  {
   "cell_type": "code",
   "execution_count": null,
   "id": "b2c996bf-cc77-4a77-a0e3-a82f35bbe69c",
   "metadata": {},
   "outputs": [],
   "source": [
    "# X_test now"
   ]
  },
  {
   "cell_type": "code",
   "execution_count": 205,
   "id": "e2db3538-4f11-4334-a786-4036f4050206",
   "metadata": {
    "tags": []
   },
   "outputs": [],
   "source": [
    "X_test = X_test.reshape(X_test.shape[0], 28, 28)"
   ]
  },
  {
   "cell_type": "code",
   "execution_count": 208,
   "id": "5d26fbdb-0055-400e-be9d-d44c5319d370",
   "metadata": {
    "tags": []
   },
   "outputs": [],
   "source": [
    "X_test = np.expand_dims(X_test, axis=1) # Add gray scale channel"
   ]
  },
  {
   "cell_type": "code",
   "execution_count": 210,
   "id": "5c30dcdb-b799-4416-909e-70c48c58d5d3",
   "metadata": {
    "tags": []
   },
   "outputs": [],
   "source": [
    "trained_model.eval()\n",
    "with torch.inference_mode():\n",
    "    t_pred = trained_model(X_test)"
   ]
  },
  {
   "cell_type": "code",
   "execution_count": 214,
   "id": "6e9576a3-3a5d-461b-b8ab-25a79aedeb31",
   "metadata": {
    "tags": []
   },
   "outputs": [],
   "source": [
    "_, idx = t_pred.max(1)\n",
    "idx.shape\n",
    "test_pred = to_categorical(idx, 10)"
   ]
  },
  {
   "cell_type": "code",
   "execution_count": 215,
   "id": "a31f6634-aeab-49e5-9e3c-dbbc1387f3dc",
   "metadata": {
    "tags": []
   },
   "outputs": [
    {
     "data": {
      "text/plain": [
       "array([[0., 0., 1., ..., 0., 0., 0.],\n",
       "       [1., 0., 0., ..., 0., 0., 0.],\n",
       "       [0., 0., 0., ..., 0., 0., 1.],\n",
       "       ...,\n",
       "       [0., 0., 0., ..., 0., 0., 0.],\n",
       "       [0., 0., 0., ..., 0., 0., 1.],\n",
       "       [0., 0., 1., ..., 0., 0., 0.]])"
      ]
     },
     "execution_count": 215,
     "metadata": {},
     "output_type": "execute_result"
    }
   ],
   "source": [
    "test_pred"
   ]
  },
  {
   "cell_type": "code",
   "execution_count": null,
   "id": "2dfd1fe8-d3b0-4ca5-bc73-cfde84f4f543",
   "metadata": {},
   "outputs": [],
   "source": []
  }
 ],
 "metadata": {
  "kernelspec": {
   "display_name": "Python 3 (ipykernel)",
   "language": "python",
   "name": "python3"
  },
  "language_info": {
   "codemirror_mode": {
    "name": "ipython",
    "version": 3
   },
   "file_extension": ".py",
   "mimetype": "text/x-python",
   "name": "python",
   "nbconvert_exporter": "python",
   "pygments_lexer": "ipython3",
   "version": "3.10.10"
  }
 },
 "nbformat": 4,
 "nbformat_minor": 5
}
